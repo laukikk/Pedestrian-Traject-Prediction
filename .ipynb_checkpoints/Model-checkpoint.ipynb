{
 "cells": [
  {
   "cell_type": "markdown",
   "id": "1042bfcd",
   "metadata": {},
   "source": [
    "# Importing the Libraries"
   ]
  },
  {
   "cell_type": "code",
   "execution_count": 3,
   "id": "df344e92",
   "metadata": {},
   "outputs": [],
   "source": [
    "import numpy as np\n",
    "import pandas as pd\n",
    "import matplotlib.pyplot as plt\n",
    "import seaborn as sns"
   ]
  },
  {
   "cell_type": "code",
   "execution_count": 4,
   "id": "7af38d43",
   "metadata": {},
   "outputs": [],
   "source": [
    "from sklearn.preprocessing import LabelEncoder\n",
    "from sklearn.preprocessing import MinMaxScaler\n",
    "from pandas import DataFrame\n",
    "from pandas import concat"
   ]
  },
  {
   "cell_type": "code",
   "execution_count": 54,
   "id": "aa518a4b",
   "metadata": {},
   "outputs": [],
   "source": [
    "import functions as f"
   ]
  },
  {
   "cell_type": "markdown",
   "id": "c8429d5f",
   "metadata": {},
   "source": [
    "## Preparing the Data"
   ]
  },
  {
   "cell_type": "code",
   "execution_count": 63,
   "id": "8a46b887",
   "metadata": {},
   "outputs": [],
   "source": [
    "df = pd.read_csv(\"datasets/csvs/Seq_Hotel.csv\")\n",
    "pos_df = df.drop(['v_x', 'v_y'], axis = 1)\n",
    "pos_grp = pos_df.groupby('pedestrian_ID')"
   ]
  },
  {
   "cell_type": "code",
   "execution_count": 120,
   "id": "cf66018f",
   "metadata": {
    "collapsed": true
   },
   "outputs": [
    {
     "name": "stdout",
     "output_type": "stream",
     "text": [
      "12\n",
      "390\n"
     ]
    },
    {
     "data": {
      "image/png": "[encoded data removed]",
      "text/plain": [
       "<Figure size 864x432 with 1 Axes>"
      ]
     },
     "metadata": {
      "needs_background": "light"
     },
     "output_type": "display_data"
    }
   ],
   "source": [
    "length = []\n",
    "for name, group in pos_grp:\n",
    "    length.append(len(group))\n",
    "\n",
    "plt.figure(figsize=(12, 6))\n",
    "plt.hist(length, bins = 100)"
   ]
  },
  {
   "cell_type": "code",
   "execution_count": 115,
   "id": "4138c146",
   "metadata": {},
   "outputs": [],
   "source": [
    "df1 = df.copy()\n",
    "for name, group in pos_grp:\n",
    "    if len(group) < 3:\n",
    "        df1 = df1.drop(pos_grp.get_group(name).index)\n",
    "\n",
    "pos_df1 = df1.drop(['v_x', 'v_y'], axis = 1)\n",
    "pos_grp1 = pos_df1.groupby('pedestrian_ID')"
   ]
  },
  {
   "cell_type": "code",
   "execution_count": 144,
   "id": "271f79d0",
   "metadata": {},
   "outputs": [
    {
     "name": "stdout",
     "output_type": "stream",
     "text": [
      "12\n",
      "378\n"
     ]
    },
    {
     "data": {
      "image/png": "[encoded data removed]",
      "text/plain": [
       "<Figure size 864x432 with 1 Axes>"
      ]
     },
     "metadata": {
      "needs_background": "light"
     },
     "output_type": "display_data"
    }
   ],
   "source": [
    "length = []\n",
    "for name, group in pos_grp1:\n",
    "    length.append(len(group))\n",
    "\n",
    "plt.figure(figsize=(12, 6))\n",
    "plt.hist(length, bins = 100)\n",
    "\n",
    "newL = [x for x in length if x < 4]\n",
    "print(len(newL))\n",
    "print(len(length))"
   ]
  },
  {
   "cell_type": "code",
   "execution_count": null,
   "id": "3ab54f78",
   "metadata": {},
   "outputs": [],
   "source": [
    "df_lstm = pd.DataFrame()\n",
    "for name, group in pos_grp1:\n",
    "    first_cols = group[['frame_number', 'pedestrian_ID']]\n",
    "    second_cols = group[['pos_x', 'pos_y']]\n",
    "    second_cols_converted = f.series_to_supervised(second_cols, 3)\n",
    "    \n",
    "    df_temp = pd.concat([first_cols, second_cols_converted], axis=1)\n",
    "    df_lstm = pd.concat([df_lstm, df_temp])\n",
    "    \n",
    "df_lstm = df_lstm.dropna()\n",
    "df_lstm = df_lstm.drop(['frame_number', 'pedestrian_ID'], axis = 1)\n",
    "df_lstm.to_csv(f\"datasets/csvs/lstms/seq_hotel.csv\", index=False)"
   ]
  },
  {
   "cell_type": "code",
   "execution_count": null,
   "id": "521b2c24",
   "metadata": {},
   "outputs": [],
   "source": []
  },
  {
   "cell_type": "markdown",
   "id": "13852e80",
   "metadata": {},
   "source": [
    "# TEST"
   ]
  },
  {
   "cell_type": "code",
   "execution_count": 158,
   "id": "1daf210b",
   "metadata": {},
   "outputs": [
    {
     "data": {
      "text/html": [
       "<div>\n",
       "<style scoped>\n",
       "    .dataframe tbody tr th:only-of-type {\n",
       "        vertical-align: middle;\n",
       "    }\n",
       "\n",
       "    .dataframe tbody tr th {\n",
       "        vertical-align: top;\n",
       "    }\n",
       "\n",
       "    .dataframe thead th {\n",
       "        text-align: right;\n",
       "    }\n",
       "</style>\n",
       "<table border=\"1\" class=\"dataframe\">\n",
       "  <thead>\n",
       "    <tr style=\"text-align: right;\">\n",
       "      <th></th>\n",
       "      <th>var1(t-3)</th>\n",
       "      <th>var2(t-3)</th>\n",
       "      <th>var1(t-2)</th>\n",
       "      <th>var2(t-2)</th>\n",
       "      <th>var1(t-1)</th>\n",
       "      <th>var2(t-1)</th>\n",
       "      <th>var1(t)</th>\n",
       "      <th>var2(t)</th>\n",
       "    </tr>\n",
       "  </thead>\n",
       "  <tbody>\n",
       "    <tr>\n",
       "      <th>26</th>\n",
       "      <td>2.259814</td>\n",
       "      <td>-4.546597</td>\n",
       "      <td>1.899369</td>\n",
       "      <td>-4.071787</td>\n",
       "      <td>1.489720</td>\n",
       "      <td>-3.428552</td>\n",
       "      <td>1.105262</td>\n",
       "      <td>-2.944155</td>\n",
       "    </tr>\n",
       "    <tr>\n",
       "      <th>32</th>\n",
       "      <td>1.899369</td>\n",
       "      <td>-4.071787</td>\n",
       "      <td>1.489720</td>\n",
       "      <td>-3.428552</td>\n",
       "      <td>1.105262</td>\n",
       "      <td>-2.944155</td>\n",
       "      <td>0.815252</td>\n",
       "      <td>-2.407553</td>\n",
       "    </tr>\n",
       "    <tr>\n",
       "      <th>38</th>\n",
       "      <td>1.489720</td>\n",
       "      <td>-3.428552</td>\n",
       "      <td>1.105262</td>\n",
       "      <td>-2.944155</td>\n",
       "      <td>0.815252</td>\n",
       "      <td>-2.407553</td>\n",
       "      <td>0.404631</td>\n",
       "      <td>-1.953971</td>\n",
       "    </tr>\n",
       "    <tr>\n",
       "      <th>44</th>\n",
       "      <td>1.105262</td>\n",
       "      <td>-2.944155</td>\n",
       "      <td>0.815252</td>\n",
       "      <td>-2.407553</td>\n",
       "      <td>0.404631</td>\n",
       "      <td>-1.953971</td>\n",
       "      <td>0.145386</td>\n",
       "      <td>-1.476325</td>\n",
       "    </tr>\n",
       "    <tr>\n",
       "      <th>49</th>\n",
       "      <td>0.815252</td>\n",
       "      <td>-2.407553</td>\n",
       "      <td>0.404631</td>\n",
       "      <td>-1.953971</td>\n",
       "      <td>0.145386</td>\n",
       "      <td>-1.476325</td>\n",
       "      <td>-0.129565</td>\n",
       "      <td>-0.913360</td>\n",
       "    </tr>\n",
       "    <tr>\n",
       "      <th>...</th>\n",
       "      <td>...</td>\n",
       "      <td>...</td>\n",
       "      <td>...</td>\n",
       "      <td>...</td>\n",
       "      <td>...</td>\n",
       "      <td>...</td>\n",
       "      <td>...</td>\n",
       "      <td>...</td>\n",
       "    </tr>\n",
       "    <tr>\n",
       "      <th>6538</th>\n",
       "      <td>3.294295</td>\n",
       "      <td>-4.199027</td>\n",
       "      <td>3.295141</td>\n",
       "      <td>-3.512055</td>\n",
       "      <td>3.279200</td>\n",
       "      <td>-2.804040</td>\n",
       "      <td>3.352335</td>\n",
       "      <td>-2.107746</td>\n",
       "    </tr>\n",
       "    <tr>\n",
       "      <th>6542</th>\n",
       "      <td>3.295141</td>\n",
       "      <td>-3.512055</td>\n",
       "      <td>3.279200</td>\n",
       "      <td>-2.804040</td>\n",
       "      <td>3.352335</td>\n",
       "      <td>-2.107746</td>\n",
       "      <td>3.353155</td>\n",
       "      <td>-1.422939</td>\n",
       "    </tr>\n",
       "    <tr>\n",
       "      <th>6535</th>\n",
       "      <td>3.504553</td>\n",
       "      <td>-8.661615</td>\n",
       "      <td>3.518956</td>\n",
       "      <td>-8.052067</td>\n",
       "      <td>3.587709</td>\n",
       "      <td>-7.427393</td>\n",
       "      <td>3.603080</td>\n",
       "      <td>-6.799915</td>\n",
       "    </tr>\n",
       "    <tr>\n",
       "      <th>6539</th>\n",
       "      <td>3.518956</td>\n",
       "      <td>-8.052067</td>\n",
       "      <td>3.587709</td>\n",
       "      <td>-7.427393</td>\n",
       "      <td>3.603080</td>\n",
       "      <td>-6.799915</td>\n",
       "      <td>3.617401</td>\n",
       "      <td>-6.192644</td>\n",
       "    </tr>\n",
       "    <tr>\n",
       "      <th>6543</th>\n",
       "      <td>3.587709</td>\n",
       "      <td>-7.427393</td>\n",
       "      <td>3.603080</td>\n",
       "      <td>-6.799915</td>\n",
       "      <td>3.617401</td>\n",
       "      <td>-6.192644</td>\n",
       "      <td>3.615008</td>\n",
       "      <td>-5.564871</td>\n",
       "    </tr>\n",
       "  </tbody>\n",
       "</table>\n",
       "<p>5387 rows × 8 columns</p>\n",
       "</div>"
      ],
      "text/plain": [
       "      var1(t-3)  var2(t-3)  var1(t-2)  var2(t-2)  var1(t-1)  var2(t-1)  \\\n",
       "26     2.259814  -4.546597   1.899369  -4.071787   1.489720  -3.428552   \n",
       "32     1.899369  -4.071787   1.489720  -3.428552   1.105262  -2.944155   \n",
       "38     1.489720  -3.428552   1.105262  -2.944155   0.815252  -2.407553   \n",
       "44     1.105262  -2.944155   0.815252  -2.407553   0.404631  -1.953971   \n",
       "49     0.815252  -2.407553   0.404631  -1.953971   0.145386  -1.476325   \n",
       "...         ...        ...        ...        ...        ...        ...   \n",
       "6538   3.294295  -4.199027   3.295141  -3.512055   3.279200  -2.804040   \n",
       "6542   3.295141  -3.512055   3.279200  -2.804040   3.352335  -2.107746   \n",
       "6535   3.504553  -8.661615   3.518956  -8.052067   3.587709  -7.427393   \n",
       "6539   3.518956  -8.052067   3.587709  -7.427393   3.603080  -6.799915   \n",
       "6543   3.587709  -7.427393   3.603080  -6.799915   3.617401  -6.192644   \n",
       "\n",
       "       var1(t)   var2(t)  \n",
       "26    1.105262 -2.944155  \n",
       "32    0.815252 -2.407553  \n",
       "38    0.404631 -1.953971  \n",
       "44    0.145386 -1.476325  \n",
       "49   -0.129565 -0.913360  \n",
       "...        ...       ...  \n",
       "6538  3.352335 -2.107746  \n",
       "6542  3.353155 -1.422939  \n",
       "6535  3.603080 -6.799915  \n",
       "6539  3.617401 -6.192644  \n",
       "6543  3.615008 -5.564871  \n",
       "\n",
       "[5387 rows x 8 columns]"
      ]
     },
     "execution_count": 158,
     "metadata": {},
     "output_type": "execute_result"
    }
   ],
   "source": [
    "df_lstm"
   ]
  },
  {
   "cell_type": "code",
   "execution_count": null,
   "id": "29ba18db",
   "metadata": {},
   "outputs": [],
   "source": []
  }
 ],
 "metadata": {
  "kernelspec": {
   "display_name": "tensorflow-gpu",
   "language": "python",
   "name": "tensorflow-gpu"
  },
  "language_info": {
   "codemirror_mode": {
    "name": "ipython",
    "version": 3
   },
   "file_extension": ".py",
   "mimetype": "text/x-python",
   "name": "python",
   "nbconvert_exporter": "python",
   "pygments_lexer": "ipython3",
   "version": "3.9.7"
  }
 },
 "nbformat": 4,
 "nbformat_minor": 5
}
