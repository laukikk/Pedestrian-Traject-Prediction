{
 "cells": [
  {
   "cell_type": "markdown",
   "id": "8f37bb9d",
   "metadata": {},
   "source": [
    "# Importing the Libraries"
   ]
  },
  {
   "cell_type": "code",
   "execution_count": 42,
   "id": "df344e92",
   "metadata": {},
   "outputs": [],
   "source": [
    "import numpy as np\n",
    "import pandas as pd\n",
    "import matplotlib.pyplot as plt\n",
    "import seaborn as sns\n",
    "import tensorflow as tf"
   ]
  },
  {
   "cell_type": "code",
   "execution_count": 43,
   "id": "7af38d43",
   "metadata": {},
   "outputs": [],
   "source": [
    "from sklearn.preprocessing import LabelEncoder\n",
    "from sklearn.preprocessing import MinMaxScaler\n",
    "from sklearn.model_selection import train_test_split\n",
    "from pandas import DataFrame\n",
    "from pandas import concat"
   ]
  },
  {
   "cell_type": "code",
   "execution_count": 44,
   "id": "3e8b0ba5",
   "metadata": {},
   "outputs": [],
   "source": [
    "import functions as f"
   ]
  },
  {
   "cell_type": "code",
   "execution_count": null,
   "id": "bdab091c",
   "metadata": {},
   "outputs": [],
   "source": []
  },
  {
   "cell_type": "markdown",
   "id": "5c6df7a7",
   "metadata": {},
   "source": [
    "### Functions"
   ]
  },
  {
   "cell_type": "code",
   "execution_count": null,
   "id": "c426cd60",
   "metadata": {},
   "outputs": [],
   "source": []
  },
  {
   "cell_type": "markdown",
   "id": "0289e3e0",
   "metadata": {},
   "source": [
    "## Preparing the Data"
   ]
  },
  {
   "cell_type": "code",
   "execution_count": 45,
   "id": "f63452eb",
   "metadata": {},
   "outputs": [],
   "source": [
    "df = pd.read_csv(\"datasets/csvs-old/Seq_ETH.csv\")\n",
    "pos_df = df.drop(['v_x', 'v_y'], axis = 1)\n",
    "pos_grp = pos_df.groupby('pedestrian_ID')"
   ]
  },
  {
   "cell_type": "code",
   "execution_count": 50,
   "id": "e7834653",
   "metadata": {
    "scrolled": true
   },
   "outputs": [
    {
     "data": {
      "text/html": [
       "<div>\n",
       "<style scoped>\n",
       "    .dataframe tbody tr th:only-of-type {\n",
       "        vertical-align: middle;\n",
       "    }\n",
       "\n",
       "    .dataframe tbody tr th {\n",
       "        vertical-align: top;\n",
       "    }\n",
       "\n",
       "    .dataframe thead th {\n",
       "        text-align: right;\n",
       "    }\n",
       "</style>\n",
       "<table border=\"1\" class=\"dataframe\">\n",
       "  <thead>\n",
       "    <tr style=\"text-align: right;\">\n",
       "      <th></th>\n",
       "      <th>frame_number</th>\n",
       "      <th>pedestrian_ID</th>\n",
       "      <th>pos_x</th>\n",
       "      <th>pos_y</th>\n",
       "    </tr>\n",
       "  </thead>\n",
       "  <tbody>\n",
       "    <tr>\n",
       "      <th>0</th>\n",
       "      <td>77</td>\n",
       "      <td>1</td>\n",
       "      <td>8.456844</td>\n",
       "      <td>3.588066</td>\n",
       "    </tr>\n",
       "    <tr>\n",
       "      <th>1</th>\n",
       "      <td>78</td>\n",
       "      <td>1</td>\n",
       "      <td>9.125530</td>\n",
       "      <td>3.658583</td>\n",
       "    </tr>\n",
       "    <tr>\n",
       "      <th>2</th>\n",
       "      <td>79</td>\n",
       "      <td>1</td>\n",
       "      <td>9.787146</td>\n",
       "      <td>3.849445</td>\n",
       "    </tr>\n",
       "    <tr>\n",
       "      <th>3</th>\n",
       "      <td>79</td>\n",
       "      <td>1</td>\n",
       "      <td>10.472197</td>\n",
       "      <td>3.955450</td>\n",
       "    </tr>\n",
       "    <tr>\n",
       "      <th>4</th>\n",
       "      <td>80</td>\n",
       "      <td>1</td>\n",
       "      <td>11.066000</td>\n",
       "      <td>4.061280</td>\n",
       "    </tr>\n",
       "    <tr>\n",
       "      <th>...</th>\n",
       "      <td>...</td>\n",
       "      <td>...</td>\n",
       "      <td>...</td>\n",
       "      <td>...</td>\n",
       "    </tr>\n",
       "    <tr>\n",
       "      <th>8903</th>\n",
       "      <td>1238</td>\n",
       "      <td>357</td>\n",
       "      <td>10.449366</td>\n",
       "      <td>6.229233</td>\n",
       "    </tr>\n",
       "    <tr>\n",
       "      <th>8904</th>\n",
       "      <td>1238</td>\n",
       "      <td>367</td>\n",
       "      <td>11.201661</td>\n",
       "      <td>8.443910</td>\n",
       "    </tr>\n",
       "    <tr>\n",
       "      <th>8905</th>\n",
       "      <td>1238</td>\n",
       "      <td>366</td>\n",
       "      <td>12.132311</td>\n",
       "      <td>6.984982</td>\n",
       "    </tr>\n",
       "    <tr>\n",
       "      <th>8906</th>\n",
       "      <td>1238</td>\n",
       "      <td>364</td>\n",
       "      <td>12.369087</td>\n",
       "      <td>4.146375</td>\n",
       "    </tr>\n",
       "    <tr>\n",
       "      <th>8907</th>\n",
       "      <td>1238</td>\n",
       "      <td>365</td>\n",
       "      <td>12.708071</td>\n",
       "      <td>5.336541</td>\n",
       "    </tr>\n",
       "  </tbody>\n",
       "</table>\n",
       "<p>8908 rows × 4 columns</p>\n",
       "</div>"
      ],
      "text/plain": [
       "      frame_number  pedestrian_ID      pos_x     pos_y\n",
       "0               77              1   8.456844  3.588066\n",
       "1               78              1   9.125530  3.658583\n",
       "2               79              1   9.787146  3.849445\n",
       "3               79              1  10.472197  3.955450\n",
       "4               80              1  11.066000  4.061280\n",
       "...            ...            ...        ...       ...\n",
       "8903          1238            357  10.449366  6.229233\n",
       "8904          1238            367  11.201661  8.443910\n",
       "8905          1238            366  12.132311  6.984982\n",
       "8906          1238            364  12.369087  4.146375\n",
       "8907          1238            365  12.708071  5.336541\n",
       "\n",
       "[8908 rows x 4 columns]"
      ]
     },
     "execution_count": 50,
     "metadata": {},
     "output_type": "execute_result"
    }
   ],
   "source": [
    "pos_df"
   ]
  },
  {
   "cell_type": "code",
   "execution_count": 24,
   "id": "c7617fd9",
   "metadata": {},
   "outputs": [
    {
     "name": "stdout",
     "output_type": "stream",
     "text": [
      "17\n",
      "360\n"
     ]
    },
    {
     "data": {
      "image/png": "[encoded data removed]",
      "text/plain": [
       "<Figure size 864x432 with 1 Axes>"
      ]
     },
     "metadata": {
      "needs_background": "light"
     },
     "output_type": "display_data"
    }
   ],
   "source": [
    "length = []\n",
    "for name, group in pos_grp:\n",
    "    length.append(len(group))\n",
    "\n",
    "plt.figure(figsize=(12, 6))\n",
    "plt.hist(length, bins = 100)\n",
    "\n",
    "newL = [x for x in length if x < 9]\n",
    "print(len(newL))\n",
    "print(len(length))"
   ]
  },
  {
   "cell_type": "code",
   "execution_count": 25,
   "id": "66817c19",
   "metadata": {},
   "outputs": [],
   "source": [
    "df1 = df.copy()\n",
    "for name, group in pos_grp:\n",
    "    if len(group) < 9:\n",
    "        df1 = df1.drop(pos_grp.get_group(name).index)\n",
    "\n",
    "pos_df1 = df1.drop(['v_x', 'v_y'], axis = 1)\n",
    "pos_grp1 = pos_df1.groupby('pedestrian_ID')"
   ]
  },
  {
   "cell_type": "code",
   "execution_count": 26,
   "id": "1e4b513c",
   "metadata": {},
   "outputs": [
    {
     "name": "stdout",
     "output_type": "stream",
     "text": [
      "0\n",
      "343\n"
     ]
    },
    {
     "data": {
      "image/png": "[encoded data removed]",
      "text/plain": [
       "<Figure size 864x432 with 1 Axes>"
      ]
     },
     "metadata": {
      "needs_background": "light"
     },
     "output_type": "display_data"
    }
   ],
   "source": [
    "length = []\n",
    "for name, group in pos_grp1:\n",
    "    length.append(len(group))\n",
    "\n",
    "plt.figure(figsize=(12, 6))\n",
    "plt.hist(length, bins = 100)\n",
    "\n",
    "# newL = [x for x in length if x < 7]\n",
    "# print(len(newL))\n",
    "# print(len(length))"
   ]
  },
  {
   "cell_type": "code",
   "execution_count": 55,
   "id": "f6664d35",
   "metadata": {},
   "outputs": [],
   "source": [
    "df_lstm = pd.DataFrame()\n",
    "for name, group in pos_grp1:\n",
    "    first_cols = group[['frame_number', 'pedestrian_ID']]\n",
    "    second_cols = group[['pos_x', 'pos_y']]\n",
    "    second_cols_converted = f.series_to_supervised(second_cols, 4, 4)\n",
    "    \n",
    "    # df_temp = pd.concat([first_cols, second_cols_converted], axis=1)\n",
    "    df_lstm = pd.concat([df_lstm, second_cols_converted])\n",
    "    \n",
    "df_lstm = df_lstm.dropna()\n",
    "# df_lstm = df_lstm.drop(['frame_number', 'pedestrian_ID'], axis = 1)\n",
    "# df_lstm.to_csv(f\"datasets/csvs/lstms/seq_eth.csv\", index=False)"
   ]
  },
  {
   "cell_type": "markdown",
   "id": "0f1206bf",
   "metadata": {},
   "source": [
    "## Models"
   ]
  },
  {
   "cell_type": "code",
   "execution_count": 56,
   "id": "241548c4",
   "metadata": {},
   "outputs": [
    {
     "data": {
      "text/html": [
       "<div>\n",
       "<style scoped>\n",
       "    .dataframe tbody tr th:only-of-type {\n",
       "        vertical-align: middle;\n",
       "    }\n",
       "\n",
       "    .dataframe tbody tr th {\n",
       "        vertical-align: top;\n",
       "    }\n",
       "\n",
       "    .dataframe thead th {\n",
       "        text-align: right;\n",
       "    }\n",
       "</style>\n",
       "<table border=\"1\" class=\"dataframe\">\n",
       "  <thead>\n",
       "    <tr style=\"text-align: right;\">\n",
       "      <th></th>\n",
       "      <th>var1(t-4)</th>\n",
       "      <th>var2(t-4)</th>\n",
       "      <th>var1(t-3)</th>\n",
       "      <th>var2(t-3)</th>\n",
       "      <th>var1(t-2)</th>\n",
       "      <th>var2(t-2)</th>\n",
       "      <th>var1(t-1)</th>\n",
       "      <th>var2(t-1)</th>\n",
       "      <th>var1(t)</th>\n",
       "      <th>var2(t)</th>\n",
       "      <th>var1(t+1)</th>\n",
       "      <th>var2(t+1)</th>\n",
       "      <th>var1(t+2)</th>\n",
       "      <th>var2(t+2)</th>\n",
       "      <th>var1(t+3)</th>\n",
       "      <th>var2(t+3)</th>\n",
       "    </tr>\n",
       "  </thead>\n",
       "  <tbody>\n",
       "    <tr>\n",
       "      <th>11</th>\n",
       "      <td>13.017548</td>\n",
       "      <td>5.782591</td>\n",
       "      <td>12.087770</td>\n",
       "      <td>5.751949</td>\n",
       "      <td>11.746306</td>\n",
       "      <td>5.729815</td>\n",
       "      <td>11.175158</td>\n",
       "      <td>5.836247</td>\n",
       "      <td>10.434290</td>\n",
       "      <td>5.873203</td>\n",
       "      <td>10.050254</td>\n",
       "      <td>6.171487</td>\n",
       "      <td>9.571296</td>\n",
       "      <td>6.237355</td>\n",
       "      <td>9.084074</td>\n",
       "      <td>6.263836</td>\n",
       "    </tr>\n",
       "    <tr>\n",
       "      <th>13</th>\n",
       "      <td>12.087770</td>\n",
       "      <td>5.751949</td>\n",
       "      <td>11.746306</td>\n",
       "      <td>5.729815</td>\n",
       "      <td>11.175158</td>\n",
       "      <td>5.836247</td>\n",
       "      <td>10.434290</td>\n",
       "      <td>5.873203</td>\n",
       "      <td>10.050254</td>\n",
       "      <td>6.171487</td>\n",
       "      <td>9.571296</td>\n",
       "      <td>6.237355</td>\n",
       "      <td>9.084074</td>\n",
       "      <td>6.263836</td>\n",
       "      <td>8.552751</td>\n",
       "      <td>6.374027</td>\n",
       "    </tr>\n",
       "    <tr>\n",
       "      <th>15</th>\n",
       "      <td>11.746306</td>\n",
       "      <td>5.729815</td>\n",
       "      <td>11.175158</td>\n",
       "      <td>5.836247</td>\n",
       "      <td>10.434290</td>\n",
       "      <td>5.873203</td>\n",
       "      <td>10.050254</td>\n",
       "      <td>6.171487</td>\n",
       "      <td>9.571296</td>\n",
       "      <td>6.237355</td>\n",
       "      <td>9.084074</td>\n",
       "      <td>6.263836</td>\n",
       "      <td>8.552751</td>\n",
       "      <td>6.374027</td>\n",
       "      <td>8.097887</td>\n",
       "      <td>6.481037</td>\n",
       "    </tr>\n",
       "    <tr>\n",
       "      <th>19</th>\n",
       "      <td>11.175158</td>\n",
       "      <td>5.836247</td>\n",
       "      <td>10.434290</td>\n",
       "      <td>5.873203</td>\n",
       "      <td>10.050254</td>\n",
       "      <td>6.171487</td>\n",
       "      <td>9.571296</td>\n",
       "      <td>6.237355</td>\n",
       "      <td>9.084074</td>\n",
       "      <td>6.263836</td>\n",
       "      <td>8.552751</td>\n",
       "      <td>6.374027</td>\n",
       "      <td>8.097887</td>\n",
       "      <td>6.481037</td>\n",
       "      <td>7.635367</td>\n",
       "      <td>6.548341</td>\n",
       "    </tr>\n",
       "    <tr>\n",
       "      <th>24</th>\n",
       "      <td>10.434290</td>\n",
       "      <td>5.873203</td>\n",
       "      <td>10.050254</td>\n",
       "      <td>6.171487</td>\n",
       "      <td>9.571296</td>\n",
       "      <td>6.237355</td>\n",
       "      <td>9.084074</td>\n",
       "      <td>6.263836</td>\n",
       "      <td>8.552751</td>\n",
       "      <td>6.374027</td>\n",
       "      <td>8.097887</td>\n",
       "      <td>6.481037</td>\n",
       "      <td>7.635367</td>\n",
       "      <td>6.548341</td>\n",
       "      <td>7.167091</td>\n",
       "      <td>6.616482</td>\n",
       "    </tr>\n",
       "    <tr>\n",
       "      <th>...</th>\n",
       "      <td>...</td>\n",
       "      <td>...</td>\n",
       "      <td>...</td>\n",
       "      <td>...</td>\n",
       "      <td>...</td>\n",
       "      <td>...</td>\n",
       "      <td>...</td>\n",
       "      <td>...</td>\n",
       "      <td>...</td>\n",
       "      <td>...</td>\n",
       "      <td>...</td>\n",
       "      <td>...</td>\n",
       "      <td>...</td>\n",
       "      <td>...</td>\n",
       "      <td>...</td>\n",
       "      <td>...</td>\n",
       "    </tr>\n",
       "    <tr>\n",
       "      <th>8856</th>\n",
       "      <td>11.201661</td>\n",
       "      <td>8.443910</td>\n",
       "      <td>11.201661</td>\n",
       "      <td>8.443910</td>\n",
       "      <td>11.201661</td>\n",
       "      <td>8.443910</td>\n",
       "      <td>11.201661</td>\n",
       "      <td>8.443910</td>\n",
       "      <td>11.201661</td>\n",
       "      <td>8.443910</td>\n",
       "      <td>11.201661</td>\n",
       "      <td>8.443910</td>\n",
       "      <td>11.201661</td>\n",
       "      <td>8.443910</td>\n",
       "      <td>11.201661</td>\n",
       "      <td>8.443910</td>\n",
       "    </tr>\n",
       "    <tr>\n",
       "      <th>8864</th>\n",
       "      <td>11.201661</td>\n",
       "      <td>8.443910</td>\n",
       "      <td>11.201661</td>\n",
       "      <td>8.443910</td>\n",
       "      <td>11.201661</td>\n",
       "      <td>8.443910</td>\n",
       "      <td>11.201661</td>\n",
       "      <td>8.443910</td>\n",
       "      <td>11.201661</td>\n",
       "      <td>8.443910</td>\n",
       "      <td>11.201661</td>\n",
       "      <td>8.443910</td>\n",
       "      <td>11.201661</td>\n",
       "      <td>8.443910</td>\n",
       "      <td>11.201661</td>\n",
       "      <td>8.443910</td>\n",
       "    </tr>\n",
       "    <tr>\n",
       "      <th>8872</th>\n",
       "      <td>11.201661</td>\n",
       "      <td>8.443910</td>\n",
       "      <td>11.201661</td>\n",
       "      <td>8.443910</td>\n",
       "      <td>11.201661</td>\n",
       "      <td>8.443910</td>\n",
       "      <td>11.201661</td>\n",
       "      <td>8.443910</td>\n",
       "      <td>11.201661</td>\n",
       "      <td>8.443910</td>\n",
       "      <td>11.201661</td>\n",
       "      <td>8.443910</td>\n",
       "      <td>11.201661</td>\n",
       "      <td>8.443910</td>\n",
       "      <td>11.201661</td>\n",
       "      <td>8.443910</td>\n",
       "    </tr>\n",
       "    <tr>\n",
       "      <th>8879</th>\n",
       "      <td>11.201661</td>\n",
       "      <td>8.443910</td>\n",
       "      <td>11.201661</td>\n",
       "      <td>8.443910</td>\n",
       "      <td>11.201661</td>\n",
       "      <td>8.443910</td>\n",
       "      <td>11.201661</td>\n",
       "      <td>8.443910</td>\n",
       "      <td>11.201661</td>\n",
       "      <td>8.443910</td>\n",
       "      <td>11.201661</td>\n",
       "      <td>8.443910</td>\n",
       "      <td>11.201661</td>\n",
       "      <td>8.443910</td>\n",
       "      <td>11.201661</td>\n",
       "      <td>8.443910</td>\n",
       "    </tr>\n",
       "    <tr>\n",
       "      <th>8886</th>\n",
       "      <td>11.201661</td>\n",
       "      <td>8.443910</td>\n",
       "      <td>11.201661</td>\n",
       "      <td>8.443910</td>\n",
       "      <td>11.201661</td>\n",
       "      <td>8.443910</td>\n",
       "      <td>11.201661</td>\n",
       "      <td>8.443910</td>\n",
       "      <td>11.201661</td>\n",
       "      <td>8.443910</td>\n",
       "      <td>11.201661</td>\n",
       "      <td>8.443910</td>\n",
       "      <td>11.201661</td>\n",
       "      <td>8.443910</td>\n",
       "      <td>11.201661</td>\n",
       "      <td>8.443910</td>\n",
       "    </tr>\n",
       "  </tbody>\n",
       "</table>\n",
       "<p>6431 rows × 16 columns</p>\n",
       "</div>"
      ],
      "text/plain": [
       "      var1(t-4)  var2(t-4)  var1(t-3)  var2(t-3)  var1(t-2)  var2(t-2)  \\\n",
       "11    13.017548   5.782591  12.087770   5.751949  11.746306   5.729815   \n",
       "13    12.087770   5.751949  11.746306   5.729815  11.175158   5.836247   \n",
       "15    11.746306   5.729815  11.175158   5.836247  10.434290   5.873203   \n",
       "19    11.175158   5.836247  10.434290   5.873203  10.050254   6.171487   \n",
       "24    10.434290   5.873203  10.050254   6.171487   9.571296   6.237355   \n",
       "...         ...        ...        ...        ...        ...        ...   \n",
       "8856  11.201661   8.443910  11.201661   8.443910  11.201661   8.443910   \n",
       "8864  11.201661   8.443910  11.201661   8.443910  11.201661   8.443910   \n",
       "8872  11.201661   8.443910  11.201661   8.443910  11.201661   8.443910   \n",
       "8879  11.201661   8.443910  11.201661   8.443910  11.201661   8.443910   \n",
       "8886  11.201661   8.443910  11.201661   8.443910  11.201661   8.443910   \n",
       "\n",
       "      var1(t-1)  var2(t-1)    var1(t)   var2(t)  var1(t+1)  var2(t+1)  \\\n",
       "11    11.175158   5.836247  10.434290  5.873203  10.050254   6.171487   \n",
       "13    10.434290   5.873203  10.050254  6.171487   9.571296   6.237355   \n",
       "15    10.050254   6.171487   9.571296  6.237355   9.084074   6.263836   \n",
       "19     9.571296   6.237355   9.084074  6.263836   8.552751   6.374027   \n",
       "24     9.084074   6.263836   8.552751  6.374027   8.097887   6.481037   \n",
       "...         ...        ...        ...       ...        ...        ...   \n",
       "8856  11.201661   8.443910  11.201661  8.443910  11.201661   8.443910   \n",
       "8864  11.201661   8.443910  11.201661  8.443910  11.201661   8.443910   \n",
       "8872  11.201661   8.443910  11.201661  8.443910  11.201661   8.443910   \n",
       "8879  11.201661   8.443910  11.201661  8.443910  11.201661   8.443910   \n",
       "8886  11.201661   8.443910  11.201661  8.443910  11.201661   8.443910   \n",
       "\n",
       "      var1(t+2)  var2(t+2)  var1(t+3)  var2(t+3)  \n",
       "11     9.571296   6.237355   9.084074   6.263836  \n",
       "13     9.084074   6.263836   8.552751   6.374027  \n",
       "15     8.552751   6.374027   8.097887   6.481037  \n",
       "19     8.097887   6.481037   7.635367   6.548341  \n",
       "24     7.635367   6.548341   7.167091   6.616482  \n",
       "...         ...        ...        ...        ...  \n",
       "8856  11.201661   8.443910  11.201661   8.443910  \n",
       "8864  11.201661   8.443910  11.201661   8.443910  \n",
       "8872  11.201661   8.443910  11.201661   8.443910  \n",
       "8879  11.201661   8.443910  11.201661   8.443910  \n",
       "8886  11.201661   8.443910  11.201661   8.443910  \n",
       "\n",
       "[6431 rows x 16 columns]"
      ]
     },
     "execution_count": 56,
     "metadata": {},
     "output_type": "execute_result"
    }
   ],
   "source": [
    "df_lstm"
   ]
  },
  {
   "cell_type": "code",
   "execution_count": 57,
   "id": "2fa416c7",
   "metadata": {},
   "outputs": [
    {
     "name": "stdout",
     "output_type": "stream",
     "text": [
      "(4501, 1, 8) (4501, 8) (1930, 1, 8) (1930, 8)\n"
     ]
    }
   ],
   "source": [
    "X = df_lstm.iloc[:,:8].values\n",
    "y = df_lstm.iloc[:,8:].values\n",
    "X_train, X_test, y_train, y_test = train_test_split(X, y, test_size=0.3, random_state=4)\n",
    "\n",
    "# reshape input to be 3D [samples, timesteps, features]\n",
    "X_train = X_train.reshape((X_train.shape[0], 1, X_train.shape[1]))\n",
    "X_test = X_test.reshape((X_test.shape[0], 1, X_test.shape[1]))\n",
    "print(X_train.shape, y_train.shape, X_test.shape, y_test.shape)"
   ]
  },
  {
   "cell_type": "code",
   "execution_count": 58,
   "id": "191dfccb",
   "metadata": {},
   "outputs": [],
   "source": [
    "n_timesteps, n_features, n_outputs = X_train.shape[1], X_train.shape[2], y_train.shape[1]\n",
    "verbose, epochs, batch_size = 2, 50, 16"
   ]
  },
  {
   "cell_type": "code",
   "execution_count": 63,
   "id": "0abcc34d",
   "metadata": {},
   "outputs": [
    {
     "name": "stdout",
     "output_type": "stream",
     "text": [
      "Model: \"sequential_10\"\n",
      "_________________________________________________________________\n",
      "Layer (type)                 Output Shape              Param #   \n",
      "=================================================================\n",
      "lstm_20 (LSTM)               (None, 1, 32)             5248      \n",
      "_________________________________________________________________\n",
      "lstm_21 (LSTM)               (None, 32)                8320      \n",
      "_________________________________________________________________\n",
      "dense_10 (Dense)             (None, 8)                 264       \n",
      "=================================================================\n",
      "Total params: 13,832\n",
      "Trainable params: 13,832\n",
      "Non-trainable params: 0\n",
      "_________________________________________________________________\n"
     ]
    }
   ],
   "source": [
    "model1 = tf.keras.models.Sequential([\n",
    "    tf.keras.layers.LSTM(32, return_sequences=True, input_shape=(X_train.shape[1], X_train.shape[2])),\n",
    "    tf.keras.layers.LSTM(32),\n",
    "\n",
    "    tf.keras.layers.Dense(8)\n",
    "])\n",
    "model1.summary()\n",
    "\n",
    "# model1.compile(loss='mae', optimizer='adam', metrics='acc')\n",
    "\n",
    "# history1 = model1.fit(X_train, y_train, epochs=5, batch_size=batch_size, validation_data=(X_test, y_test), verbose=verbose, shuffle=False)\n"
   ]
  },
  {
   "cell_type": "code",
   "execution_count": 64,
   "id": "ebe2f8b5",
   "metadata": {
    "scrolled": false
   },
   "outputs": [
    {
     "name": "stdout",
     "output_type": "stream",
     "text": [
      "Epoch 1/5\n",
      "282/282 - 22s - loss: 2.8199 - acc: 0.2862 - val_loss: 1.3367 - val_acc: 0.4933\n",
      "Epoch 2/5\n",
      "282/282 - 6s - loss: 0.9603 - acc: 0.5803 - val_loss: 0.6811 - val_acc: 0.6212\n",
      "Epoch 3/5\n",
      "282/282 - 7s - loss: 0.5270 - acc: 0.6519 - val_loss: 0.3874 - val_acc: 0.6554\n",
      "Epoch 4/5\n",
      "282/282 - 7s - loss: 0.3484 - acc: 0.6645 - val_loss: 0.3143 - val_acc: 0.6731\n",
      "Epoch 5/5\n",
      "282/282 - 6s - loss: 0.2759 - acc: 0.6807 - val_loss: 0.2521 - val_acc: 0.6927\n"
     ]
    }
   ],
   "source": [
    "model = tf.keras.models.Sequential([\n",
    "    tf.keras.layers.LSTM(32, return_sequences=True),\n",
    "    tf.keras.layers.LSTM(32),\n",
    "\n",
    "    tf.keras.layers.Dense(8)\n",
    "])\n",
    "\n",
    "model.compile(loss='mae', optimizer='adam', metrics='acc')\n",
    "\n",
    "history = model.fit(X_train, y_train, epochs=5, batch_size=batch_size, validation_data=(X_test, y_test), verbose=verbose, shuffle=False)\n"
   ]
  },
  {
   "cell_type": "code",
   "execution_count": 67,
   "id": "18147876",
   "metadata": {},
   "outputs": [
    {
     "name": "stderr",
     "output_type": "stream",
     "text": [
      "c:\\Users\\lauki\\anaconda3\\envs\\tfgpu\\lib\\site-packages\\seaborn\\_decorators.py:36: FutureWarning: Pass the following variable as a keyword arg: x. From version 0.12, the only valid positional argument will be `data`, and passing other arguments without an explicit keyword will result in an error or misinterpretation.\n",
      "  warnings.warn(\n",
      "c:\\Users\\lauki\\anaconda3\\envs\\tfgpu\\lib\\site-packages\\seaborn\\_decorators.py:36: FutureWarning: Pass the following variable as a keyword arg: x. From version 0.12, the only valid positional argument will be `data`, and passing other arguments without an explicit keyword will result in an error or misinterpretation.\n",
      "  warnings.warn(\n"
     ]
    },
    {
     "data": {
      "image/png": "[encoded data removed]",
      "text/plain": [
       "<Figure size 432x288 with 1 Axes>"
      ]
     },
     "metadata": {
      "needs_background": "light"
     },
     "output_type": "display_data"
    }
   ],
   "source": [
    "sns.lineplot(history.history['loss'], label='train')\n",
    "sns.lineplot(history.history['val_loss'], label='test')\n",
    "# plt.legend()\n",
    "sns.show()"
   ]
  },
  {
   "cell_type": "code",
   "execution_count": 79,
   "id": "65d6b2c3",
   "metadata": {},
   "outputs": [
    {
     "data": {
      "text/html": [
       "<div>\n",
       "<style scoped>\n",
       "    .dataframe tbody tr th:only-of-type {\n",
       "        vertical-align: middle;\n",
       "    }\n",
       "\n",
       "    .dataframe tbody tr th {\n",
       "        vertical-align: top;\n",
       "    }\n",
       "\n",
       "    .dataframe thead th {\n",
       "        text-align: right;\n",
       "    }\n",
       "</style>\n",
       "<table border=\"1\" class=\"dataframe\">\n",
       "  <thead>\n",
       "    <tr style=\"text-align: right;\">\n",
       "      <th></th>\n",
       "      <th>loss</th>\n",
       "      <th>val_loss</th>\n",
       "    </tr>\n",
       "  </thead>\n",
       "  <tbody>\n",
       "    <tr>\n",
       "      <th>0</th>\n",
       "      <td>2.819928</td>\n",
       "      <td>1.336726</td>\n",
       "    </tr>\n",
       "    <tr>\n",
       "      <th>1</th>\n",
       "      <td>0.960289</td>\n",
       "      <td>0.681055</td>\n",
       "    </tr>\n",
       "    <tr>\n",
       "      <th>2</th>\n",
       "      <td>0.527029</td>\n",
       "      <td>0.387413</td>\n",
       "    </tr>\n",
       "    <tr>\n",
       "      <th>3</th>\n",
       "      <td>0.348376</td>\n",
       "      <td>0.314335</td>\n",
       "    </tr>\n",
       "    <tr>\n",
       "      <th>4</th>\n",
       "      <td>0.275950</td>\n",
       "      <td>0.252135</td>\n",
       "    </tr>\n",
       "  </tbody>\n",
       "</table>\n",
       "</div>"
      ],
      "text/plain": [
       "       loss  val_loss\n",
       "0  2.819928  1.336726\n",
       "1  0.960289  0.681055\n",
       "2  0.527029  0.387413\n",
       "3  0.348376  0.314335\n",
       "4  0.275950  0.252135"
      ]
     },
     "execution_count": 79,
     "metadata": {},
     "output_type": "execute_result"
    }
   ],
   "source": [
    "pd.DataFrame(history.history)[['loss', 'val_loss']]"
   ]
  },
  {
   "cell_type": "code",
   "execution_count": 83,
   "id": "01701de2",
   "metadata": {},
   "outputs": [
    {
     "data": {
      "image/png": "[encoded data removed]",
      "text/plain": [
       "<Figure size 432x288 with 1 Axes>"
      ]
     },
     "metadata": {},
     "output_type": "display_data"
    },
    {
     "data": {
      "image/png": "[encoded data removed]",
      "text/plain": [
       "<Figure size 432x288 with 1 Axes>"
      ]
     },
     "metadata": {},
     "output_type": "display_data"
    }
   ],
   "source": [
    "sns.lineplot(data=pd.DataFrame(history.history)[['loss', 'val_loss']])\n",
    "plt.show()\n",
    "sns.lineplot(data=pd.DataFrame(history.history)[['acc', 'val_acc']])\n",
    "plt.show()"
   ]
  },
  {
   "cell_type": "markdown",
   "id": "298f87de",
   "metadata": {},
   "source": [
    "### Prediction"
   ]
  },
  {
   "cell_type": "code",
   "execution_count": 58,
   "id": "1dff7961",
   "metadata": {},
   "outputs": [
    {
     "name": "stdout",
     "output_type": "stream",
     "text": [
      "[[0.03322618 1.26998856 1.47109964 ... 2.38018962 2.44699327 1.41535632]\n",
      " [1.28255814 0.11970422 0.4587997  ... 3.66221888 3.72902253 2.69738558]\n",
      " [1.4629079  0.56398943 0.01451448 ... 3.84256865 3.9093723  2.87773535]\n",
      " ...\n",
      " [2.39573989 3.66625733 3.86736841 ... 0.03502897 0.08987312 2.17478083]\n",
      " [2.44784621 3.71836365 3.91947473 ... 0.06818547 0.03894446 2.22570949]\n",
      " [1.38084517 2.6513626  2.85247369 ... 2.20235184 2.25719599 0.03398228]]\n"
     ]
    }
   ],
   "source": [
    "y_pred = []\n",
    "for val in X_test:\n",
    "    pred = model.predict(val[np.newaxis])\n",
    "    y_pred.append(pred)\n",
    "\n",
    "print(tf.keras.metrics.mean_absolute_error(y_pred, y_test).numpy())"
   ]
  },
  {
   "cell_type": "code",
   "execution_count": 81,
   "id": "281821f6",
   "metadata": {},
   "outputs": [
    {
     "data": {
      "text/plain": [
       "-0.055778347"
      ]
     },
     "execution_count": 81,
     "metadata": {},
     "output_type": "execute_result"
    }
   ],
   "source": [
    "y_pred[0][0][0]"
   ]
  },
  {
   "cell_type": "markdown",
   "id": "5305bd1f",
   "metadata": {},
   "source": [
    "#### Error"
   ]
  },
  {
   "cell_type": "code",
   "execution_count": 64,
   "id": "60e67c47",
   "metadata": {},
   "outputs": [
    {
     "data": {
      "text/plain": [
       "3.0323954"
      ]
     },
     "execution_count": 64,
     "metadata": {},
     "output_type": "execute_result"
    }
   ],
   "source": [
    "error = tf.keras.metrics.MeanAbsoluteError()\n",
    "error.update_state(y_pred, y_test)\n",
    "error.result().numpy()"
   ]
  },
  {
   "cell_type": "markdown",
   "id": "68f7134d",
   "metadata": {},
   "source": [
    "## Forcasting"
   ]
  },
  {
   "cell_type": "code",
   "execution_count": 182,
   "id": "4ace9f1e",
   "metadata": {},
   "outputs": [],
   "source": [
    "def make_forecast(model, df, size_of_prediction=2, window_size=3):\n",
    "  \"\"\"\n",
    "  Makes the forecast on the data\n",
    "\n",
    "  Args:\n",
    "    model (tensorflow sequential) -- the trained model with 2 output tensors\n",
    "    df (pandas dataframe) -- the part of the dataframe on which the predictions are to be made\n",
    "    size_of_prediction (int) -- dimension of the prediction\n",
    "    window_size (int) -- size of the window\n",
    "  \"\"\"\n",
    "\n",
    "  series = []\n",
    "  forecasts = []\n",
    "  len_of_df = len(df)\n",
    "\n",
    "  try:\n",
    "    for i in range(window_size):\n",
    "      for j in range(size_of_prediction):\n",
    "        series.append(df.iloc[i][j])\n",
    "  except IndexError:\n",
    "    print(f\"Length of the dataframe={len(df)} is smaller than the window_size={window_size}. Add more data or reduce the window_size\")\n",
    "\n",
    "  for i in range(len_of_df-window_size):\n",
    "    predict = np.array(series[-window_size*size_of_prediction:])[np.newaxis]\n",
    "    forecast = model.predict(predict[-window_size*size_of_prediction:][np.newaxis])\n",
    "    forecasts.append(forecast[0])\n",
    "    for j in range(size_of_prediction):\n",
    "      series.append(forecast[0][j])\n",
    "\n",
    "  return np.array(forecasts)\n",
    "      "
   ]
  },
  {
   "cell_type": "code",
   "execution_count": 186,
   "id": "a1b808a1",
   "metadata": {},
   "outputs": [],
   "source": [
    "def draw_predictions(df, forecasts):\n",
    "    \"\"\"\n",
    "    Draws the predictions of the data\n",
    "\n",
    "    Args:\n",
    "    df (pandas dataframe) -- the part of the dataframe on which the predictions are to be made\n",
    "    forecasts (array of int) -- all the predictions from make_forecast()\n",
    "    \"\"\"\n",
    "    x_val = [val[0] for val in forecasts]\n",
    "    y_val = [val[1] for val in forecasts]\n",
    "\n",
    "    b = plt.scatter(np.array(df.iloc[:3,0]), np.array(df.iloc[:3,1]), c='b')\n",
    "    c = plt.scatter(np.array(df.iloc[3:,0]), np.array(df.iloc[3:,1]), c='c')\n",
    "    o = plt.scatter(x_val, y_val, c='orange')\n",
    "    plt.legend((b, c, o), ('before', 'after', 'prediction'))\n",
    "    plt.show()"
   ]
  },
  {
   "cell_type": "code",
   "execution_count": null,
   "id": "3226dba8",
   "metadata": {},
   "outputs": [],
   "source": [
    "i = 15\n",
    "for name, group in pos_grp1:\n",
    "    group = group.iloc[:,-2:]\n",
    "    forecasts = make_forecast(model, group)\n",
    "    draw_predictions(group, forecasts)\n",
    "    print(group)\n",
    "    i -= 1\n",
    "    if not i:\n",
    "        break"
   ]
  },
  {
   "cell_type": "markdown",
   "id": "3ecae1ed",
   "metadata": {},
   "source": [
    "# TEST"
   ]
  },
  {
   "cell_type": "code",
   "execution_count": 189,
   "id": "129a2b97",
   "metadata": {},
   "outputs": [],
   "source": [
    "def future_forecast(model, df, size_of_prediction=2, window_size=3, no_of_forecasts=3):\n",
    "  \"\"\"\n",
    "  Makes the forecast on the data\n",
    "\n",
    "  Args:\n",
    "    model (tensorflow sequential) -- the trained model with 2 output tensors\n",
    "    df (pandas dataframe) -- the part of the dataframe on which the predictions are to be made\n",
    "    dim (int) -- dimension of the prediction\n",
    "    window_size (int) -- size of the window\n",
    "    no_of_forecasts (int) -- number of forecasts to be made, the forecasts made would also be used to make the later forecasts\n",
    "  \"\"\"\n",
    "\n",
    "  series = []\n",
    "  forecasts = []\n",
    "  len_of_df = len(df)\n",
    "\n",
    "  try:\n",
    "    for i in range(window_size):\n",
    "      for j in range(size_of_prediction):\n",
    "        series.append(df.iloc[i][j])\n",
    "  except IndexError:\n",
    "    print(f\"Length of the dataframe={len(df)} is smaller than the window_size={window_size}. Add more data or reduce the window_size\")\n",
    "\n",
    "  for i in range(no_of_forecasts):\n",
    "    predict = np.array(series[-window_size*size_of_prediction:])[np.newaxis]\n",
    "    forecast = model.predict(predict[-window_size*size_of_prediction:][np.newaxis])\n",
    "    forecasts.append(forecast[0])\n",
    "    for j in range(size_of_prediction):\n",
    "      series.append(forecast[0][j])\n",
    "\n",
    "  return np.array(forecasts)"
   ]
  },
  {
   "cell_type": "code",
   "execution_count": 192,
   "id": "259ae587",
   "metadata": {},
   "outputs": [
    {
     "data": {
      "text/plain": [
       "array([[0.6184893, 2.9211946],\n",
       "       [0.6327673, 3.2772484],\n",
       "       [0.6006485, 3.5886047]], dtype=float32)"
      ]
     },
     "execution_count": 192,
     "metadata": {},
     "output_type": "execute_result"
    }
   ],
   "source": [
    "future_forecast(model, group)"
   ]
  },
  {
   "cell_type": "code",
   "execution_count": 193,
   "id": "46af7a72",
   "metadata": {},
   "outputs": [
    {
     "data": {
      "text/html": [
       "<div>\n",
       "<style scoped>\n",
       "    .dataframe tbody tr th:only-of-type {\n",
       "        vertical-align: middle;\n",
       "    }\n",
       "\n",
       "    .dataframe tbody tr th {\n",
       "        vertical-align: top;\n",
       "    }\n",
       "\n",
       "    .dataframe thead th {\n",
       "        text-align: right;\n",
       "    }\n",
       "</style>\n",
       "<table border=\"1\" class=\"dataframe\">\n",
       "  <thead>\n",
       "    <tr style=\"text-align: right;\">\n",
       "      <th></th>\n",
       "      <th>pos_x</th>\n",
       "      <th>pos_y</th>\n",
       "    </tr>\n",
       "  </thead>\n",
       "  <tbody>\n",
       "    <tr>\n",
       "      <th>223</th>\n",
       "      <td>0.364292</td>\n",
       "      <td>1.678611</td>\n",
       "    </tr>\n",
       "    <tr>\n",
       "      <th>226</th>\n",
       "      <td>0.445974</td>\n",
       "      <td>2.107313</td>\n",
       "    </tr>\n",
       "    <tr>\n",
       "      <th>229</th>\n",
       "      <td>0.585037</td>\n",
       "      <td>2.545277</td>\n",
       "    </tr>\n",
       "    <tr>\n",
       "      <th>232</th>\n",
       "      <td>0.611068</td>\n",
       "      <td>3.001580</td>\n",
       "    </tr>\n",
       "  </tbody>\n",
       "</table>\n",
       "</div>"
      ],
      "text/plain": [
       "        pos_x     pos_y\n",
       "223  0.364292  1.678611\n",
       "226  0.445974  2.107313\n",
       "229  0.585037  2.545277\n",
       "232  0.611068  3.001580"
      ]
     },
     "execution_count": 193,
     "metadata": {},
     "output_type": "execute_result"
    }
   ],
   "source": [
    "group"
   ]
  }
 ],
 "metadata": {
  "interpreter": {
   "hash": "38a034f0438b23d2a1aa6bdbbcadf64caf15722bd082d1ef34a2dbf1d449835e"
  },
  "kernelspec": {
   "display_name": "Python 3.9.12 ('tfgpu')",
   "language": "python",
   "name": "python3"
  },
  "language_info": {
   "codemirror_mode": {
    "name": "ipython",
    "version": 3
   },
   "file_extension": ".py",
   "mimetype": "text/x-python",
   "name": "python",
   "nbconvert_exporter": "python",
   "pygments_lexer": "ipython3",
   "version": "3.9.12"
  }
 },
 "nbformat": 4,
 "nbformat_minor": 5
}
